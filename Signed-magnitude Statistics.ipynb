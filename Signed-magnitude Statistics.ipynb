{
 "cells": [
  {
   "cell_type": "markdown",
   "id": "e70e5178",
   "metadata": {},
   "source": [
    "### Statistical performance analysis with Signed-magnitude encoding"
   ]
  },
  {
   "cell_type": "code",
   "execution_count": 1,
   "id": "79f9e5a1",
   "metadata": {},
   "outputs": [],
   "source": [
    "import numpy as np\n",
    "import matplotlib.pyplot as plt"
   ]
  },
  {
   "cell_type": "code",
   "execution_count": 5,
   "id": "64a1440e",
   "metadata": {},
   "outputs": [],
   "source": [
    "e_x = 10*(np.random.rand(2)*2 -1)  \n",
    "e_y = 10*(np.random.rand(2)*2 -1)"
   ]
  },
  {
   "cell_type": "code",
   "execution_count": 6,
   "id": "a1be7b31",
   "metadata": {},
   "outputs": [],
   "source": [
    "eta_sets = [np.random.uniform(-1, 1, 7) for _ in range(1000)]"
   ]
  },
  {
   "cell_type": "code",
   "execution_count": 7,
   "id": "8ef993c0",
   "metadata": {},
   "outputs": [
    {
     "name": "stdout",
     "output_type": "stream",
     "text": [
      "The shortest vector is: [-3.13879116 -5.3788789 ]\n",
      "The length of the shortest vector is: 6.227708097693136\n",
      "The coefficients are: a = 0, b = -1\n",
      "Percentage of eta_i sets matching the shortest vector: 3.4000000000000004%\n"
     ]
    },
    {
     "data": {
      "image/png": "[encoded data removed]",
      "text/plain": [
       "<Figure size 640x480 with 1 Axes>"
      ]
     },
     "metadata": {},
     "output_type": "display_data"
    }
   ],
   "source": [
    "def pauli_z():\n",
    "    return np.array([[1, 0], [0, -1]])\n",
    "\n",
    "def identity():\n",
    "    return np.eye(2)\n",
    "\n",
    "def tensor_product(operators):\n",
    "    result = operators[0]\n",
    "    for op in operators[1:]:\n",
    "        result = np.kron(result, op)\n",
    "    return result\n",
    "\n",
    "def construct_hamiltonian(num_qubits, coefficients, mu):\n",
    "    H = np.zeros((2**num_qubits, 2**num_qubits))\n",
    "    for i, coeff in enumerate(coefficients):\n",
    "        ops = [identity()] * num_qubits\n",
    "        ops[i] = pauli_z()\n",
    "        ops[i + 1] = pauli_z()\n",
    "        H += coeff * tensor_product(ops)\n",
    "    \n",
    "    for i in range(num_qubits - 1): \n",
    "        ops = [identity()] * num_qubits\n",
    "        ops[i] = pauli_z()\n",
    "        H += mu * tensor_product(ops)\n",
    "    \n",
    "    return H\n",
    "\n",
    "def compute_eigenvalues_and_eigenvectors(H):\n",
    "    eigenvalues, eigenvectors = np.linalg.eig(H)\n",
    "    return eigenvalues, eigenvectors\n",
    "\n",
    "def order_eigenvectors_by_energy(eigenvalues, eigenvectors):\n",
    "    sorted_indices = np.argsort(eigenvalues)\n",
    "    sorted_eigenvalues = eigenvalues[sorted_indices]\n",
    "    sorted_eigenvectors = eigenvectors[:, sorted_indices]\n",
    "    return sorted_eigenvalues, sorted_eigenvectors\n",
    "\n",
    "def decode_eigenvector_signed_magnitude(index, num_bits_per_coordinate):\n",
    "    binary_str = format(index, f'0{2 * num_bits_per_coordinate}b')\n",
    "    x_bin = binary_str[:num_bits_per_coordinate]\n",
    "    y_bin = binary_str[num_bits_per_coordinate:]\n",
    "    \n",
    "    def signed_magnitude_decode(bin_str):\n",
    "        sign = int(bin_str[0])\n",
    "        magnitude = int(bin_str[1:], 2)\n",
    "        return magnitude if sign == 0 else -magnitude\n",
    "    \n",
    "    x = signed_magnitude_decode(x_bin)\n",
    "    y = signed_magnitude_decode(y_bin)\n",
    "    \n",
    "    return (x, y)\n",
    "\n",
    "def calculate_vector_length(decoded_coordinates, e_x, e_y):\n",
    "    a, b = decoded_coordinates\n",
    "    v = a * e_x + b * e_y\n",
    "    return np.linalg.norm(v)\n",
    "\n",
    "def find_shortest_vector(e_x, e_y, range_limit):\n",
    "    shortest_length = float('inf')\n",
    "    shortest_vector = None\n",
    "    best_a = best_b = None\n",
    "\n",
    "    for a in range(-range_limit, range_limit + 1):\n",
    "        for b in range(-range_limit, range_limit + 1):\n",
    "            if a == 0 and b == 0:\n",
    "                continue  # skip the zero vector\n",
    "            v = a * e_x + b * e_y\n",
    "            length = np.linalg.norm(v)\n",
    "            if length < shortest_length:\n",
    "                shortest_length = length\n",
    "                shortest_vector = v\n",
    "                best_a = a\n",
    "                best_b = b\n",
    "\n",
    "    return shortest_vector, shortest_length, best_a, best_b\n",
    "\n",
    "num_qubits = 8  \n",
    "num_bits_per_coordinate = 4  \n",
    "mu = 0.000001  \n",
    "\n",
    "shortest_vector, shortest_length, best_a, best_b = find_shortest_vector(e_x, e_y, range_limit=10)\n",
    "\n",
    "vector_lengths = []\n",
    "\n",
    "# analyse each set of eta coefficients\n",
    "count_matching_vectors = 0\n",
    "matching_eta_sets = []  \n",
    "\n",
    "for coefficients in eta_sets:\n",
    "    H = construct_hamiltonian(num_qubits, coefficients, mu)\n",
    "    eigenvalues, eigenvectors = compute_eigenvalues_and_eigenvectors(H)\n",
    "    sorted_eigenvalues, sorted_eigenvectors = order_eigenvectors_by_energy(eigenvalues, eigenvectors)\n",
    "    \n",
    "    first_excited_eigenvector = sorted_eigenvectors[:, 1]\n",
    "    index = np.argmax(np.abs(first_excited_eigenvector))\n",
    "    decoded_coordinates = decode_eigenvector_signed_magnitude(index, num_bits_per_coordinate)\n",
    "    \n",
    "    if decoded_coordinates == (0, 0):\n",
    "        continue  # ignore zero vector\n",
    "        \n",
    "    vector_length = calculate_vector_length(decoded_coordinates, e_x, e_y)\n",
    "    \n",
    "    vector_lengths.append(vector_length)\n",
    "    \n",
    "    # check if the vector length matches the shortest length\n",
    "    if np.isclose(vector_length, shortest_length, atol=1e-5):\n",
    "        count_matching_vectors += 1\n",
    "        matching_eta_sets.append(coefficients) \n",
    "\n",
    "# calculate the percentage of eta sets that correspond to the shortest vector\n",
    "percentage_matching = (count_matching_vectors / len(eta_sets)) * 100\n",
    "\n",
    "print(f\"The shortest vector is: {shortest_vector}\")\n",
    "print(f\"The length of the shortest vector is: {shortest_length}\")\n",
    "print(f\"The coefficients are: a = {best_a}, b = {best_b}\")\n",
    "print(f\"Percentage of eta_i sets matching the shortest vector: {percentage_matching}%\")\n",
    "\n",
    "bin_width = 0.3\n",
    "bins = np.arange(min(vector_lengths), max(vector_lengths) + bin_width, bin_width)\n",
    "\n",
    "plt.hist(vector_lengths, bins=bins, edgecolor='black')\n",
    "plt.xlabel('Vector Length')\n",
    "plt.ylabel('Counts')\n",
    "plt.title('Signed-Magnitude')\n",
    "plt.grid(True)\n",
    "plt.show()"
   ]
  },
  {
   "cell_type": "code",
   "execution_count": null,
   "id": "b59f3c19",
   "metadata": {},
   "outputs": [],
   "source": []
  }
 ],
 "metadata": {
  "kernelspec": {
   "display_name": "Python 3 (ipykernel)",
   "language": "python",
   "name": "python3"
  },
  "language_info": {
   "codemirror_mode": {
    "name": "ipython",
    "version": 3
   },
   "file_extension": ".py",
   "mimetype": "text/x-python",
   "name": "python",
   "nbconvert_exporter": "python",
   "pygments_lexer": "ipython3",
   "version": "3.10.9"
  }
 },
 "nbformat": 4,
 "nbformat_minor": 5
}
