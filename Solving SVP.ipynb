{
 "cells": [
  {
   "cell_type": "markdown",
   "id": "f10ceb07",
   "metadata": {},
   "source": [
    "### Code to solve the SVP for 2D and 3D random lattices"
   ]
  },
  {
   "cell_type": "code",
   "execution_count": 1,
   "id": "3d8523c2",
   "metadata": {},
   "outputs": [],
   "source": [
    "import numpy as np"
   ]
  },
  {
   "cell_type": "markdown",
   "id": "22a666c2",
   "metadata": {},
   "source": [
    "2D"
   ]
  },
  {
   "cell_type": "code",
   "execution_count": 10,
   "id": "99c76801",
   "metadata": {},
   "outputs": [],
   "source": [
    "e_x = 10*(np.random.rand(2)*2 -1) \n",
    "e_y = 10*(np.random.rand(2)*2 -1)  "
   ]
  },
  {
   "cell_type": "code",
   "execution_count": 11,
   "id": "8bedda34",
   "metadata": {},
   "outputs": [
    {
     "name": "stdout",
     "output_type": "stream",
     "text": [
      "The shortest vector is: [ 0.09119703 -6.53063426]\n",
      "The length of the shortest vector is: 6.531270988730679\n",
      "The coefficients are: a = -1, b = 0\n"
     ]
    }
   ],
   "source": [
    "def find_shortest_vector(e_x, e_y, range_limit):\n",
    "    shortest_length = float('inf')\n",
    "    shortest_vector = None\n",
    "    best_a = best_b = None\n",
    "\n",
    "    for a in range(-range_limit, range_limit + 1):\n",
    "        for b in range(-range_limit, range_limit + 1):\n",
    "            if a == 0 and b == 0:\n",
    "                continue  # skip the zero vector\n",
    "            v = a * e_x + b * e_y\n",
    "            length = np.linalg.norm(v)\n",
    "            if length < shortest_length:\n",
    "                shortest_length = length\n",
    "                shortest_vector = v\n",
    "                best_a = a\n",
    "                best_b = b\n",
    "\n",
    "    return shortest_vector, shortest_length, best_a, best_b\n",
    "\n",
    "shortest_vector, shortest_length, best_a, best_b = find_shortest_vector(e_x, e_y, range_limit=10)\n",
    "\n",
    "print(f\"The shortest vector is: {shortest_vector}\")\n",
    "print(f\"The length of the shortest vector is: {shortest_length}\")\n",
    "print(f\"The coefficients are: a = {best_a}, b = {best_b}\")"
   ]
  },
  {
   "cell_type": "markdown",
   "id": "3aaae048",
   "metadata": {},
   "source": [
    "3D"
   ]
  },
  {
   "cell_type": "code",
   "execution_count": 12,
   "id": "ff50d92b",
   "metadata": {},
   "outputs": [],
   "source": [
    "e_x = 10*(np.random.rand(3)*2 -1) \n",
    "e_y = 10*(np.random.rand(3)*2 -1)\n",
    "e_z = 10*(np.random.rand(3)*2 -1) "
   ]
  },
  {
   "cell_type": "code",
   "execution_count": 13,
   "id": "d88123ae",
   "metadata": {},
   "outputs": [
    {
     "name": "stdout",
     "output_type": "stream",
     "text": [
      "The shortest vector is: [ 5.53858271 -0.15823627  1.98595994]\n",
      "The length of the shortest vector is: 5.885998135831167\n",
      "The coefficients are: a = -1, b = 0, c = -1\n"
     ]
    }
   ],
   "source": [
    "def find_shortest_vector(e_x, e_y, e_z, range_limit):\n",
    "    shortest_length = float('inf')\n",
    "    shortest_vector = None\n",
    "    best_a = best_b = best_c = None\n",
    "\n",
    "    for a in range(-range_limit, range_limit + 1):\n",
    "        for b in range(-range_limit, range_limit + 1):\n",
    "            for c in range(-range_limit, range_limit + 1):\n",
    "                if a == 0 and b == 0 and c == 0:\n",
    "                    continue  # skip the zero vector\n",
    "                v = a * e_x + b * e_y + c * e_z\n",
    "                length = np.linalg.norm(v)\n",
    "                if length < shortest_length:\n",
    "                    shortest_length = length\n",
    "                    shortest_vector = v\n",
    "                    best_a = a\n",
    "                    best_b = b\n",
    "                    best_c = c\n",
    "\n",
    "    return shortest_vector, shortest_length, best_a, best_b, best_c\n",
    "\n",
    "shortest_vector, shortest_length, best_a, best_b, best_c = find_shortest_vector(e_x, e_y, e_z, range_limit=10)\n",
    "\n",
    "print(f\"The shortest vector is: {shortest_vector}\")\n",
    "print(f\"The length of the shortest vector is: {shortest_length}\")\n",
    "print(f\"The coefficients are: a = {best_a}, b = {best_b}, c = {best_c}\")"
   ]
  }
 ],
 "metadata": {
  "kernelspec": {
   "display_name": "Python 3 (ipykernel)",
   "language": "python",
   "name": "python3"
  },
  "language_info": {
   "codemirror_mode": {
    "name": "ipython",
    "version": 3
   },
   "file_extension": ".py",
   "mimetype": "text/x-python",
   "name": "python",
   "nbconvert_exporter": "python",
   "pygments_lexer": "ipython3",
   "version": "3.10.9"
  }
 },
 "nbformat": 4,
 "nbformat_minor": 5
}
